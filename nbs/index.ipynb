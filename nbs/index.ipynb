{
 "cells": [
  {
   "cell_type": "code",
   "execution_count": null,
   "metadata": {},
   "outputs": [],
   "source": [
    "#| hide\n",
    "from cjm_kaggle_utils.core import *"
   ]
  },
  {
   "cell_type": "markdown",
   "metadata": {},
   "source": [
    "# cjm-kaggle-utils\n",
    "\n",
    "> Some utility functions for working with the Kaggle API."
   ]
  },
  {
   "cell_type": "markdown",
   "metadata": {},
   "source": [
    "## Install"
   ]
  },
  {
   "cell_type": "markdown",
   "metadata": {},
   "source": [
    "```sh\n",
    "pip install cjm_kaggle_utils\n",
    "```"
   ]
  },
  {
   "cell_type": "markdown",
   "metadata": {},
   "source": [
    "## How to use"
   ]
  },
  {
   "cell_type": "markdown",
   "metadata": {},
   "source": [
    "### save_kaggle_creds"
   ]
  },
  {
   "cell_type": "code",
   "execution_count": null,
   "metadata": {},
   "outputs": [],
   "source": [
    "from cjm_kaggle_utils.core import save_kaggle_creds"
   ]
  },
  {
   "cell_type": "code",
   "execution_count": null,
   "metadata": {},
   "outputs": [
    {
     "name": "stdout",
     "output_type": "stream",
     "text": [
      "Credentials already present. Set `overwrite=True` to replace them.\n"
     ]
    }
   ],
   "source": [
    "username = \"name\"\n",
    "key = \"12345\"\n",
    "save_kaggle_creds(username, key, overwrite=False)"
   ]
  },
  {
   "cell_type": "markdown",
   "metadata": {},
   "source": [
    "### dl_kaggle"
   ]
  },
  {
   "cell_type": "code",
   "execution_count": null,
   "metadata": {},
   "outputs": [],
   "source": [
    "from cjm_kaggle_utils.core import dl_kaggle\n",
    "from pathlib import Path"
   ]
  },
  {
   "cell_type": "code",
   "execution_count": null,
   "metadata": {},
   "outputs": [
    {
     "name": "stdout",
     "output_type": "stream",
     "text": [
      "Dataset Directory: Datasets\n",
      "Archive Directory: Datasets/../Archive\n"
     ]
    }
   ],
   "source": [
    "# Get the path to the directory where datasets are stored\n",
    "dataset_dir = Path(\"./Datasets/\")\n",
    "dataset_dir.mkdir(parents=True, exist_ok=True)\n",
    "print(f\"Dataset Directory: {dataset_dir}\")\n",
    "\n",
    "# Create the path to the data directory\n",
    "archive_dir = dataset_dir/'../Archive'\n",
    "archive_dir.mkdir(parents=True, exist_ok=True)\n",
    "print(f\"Archive Directory: {archive_dir}\")"
   ]
  },
  {
   "cell_type": "code",
   "execution_count": null,
   "metadata": {},
   "outputs": [],
   "source": [
    "# Set the name of the dataset\n",
    "dataset_name = 'yolox-openvino-inference-demo-files'\n",
    "\n",
    "# Construct the Kaggle dataset name by combining the username and dataset name\n",
    "kaggle_dataset = f'innominate817/{dataset_name}'"
   ]
  },
  {
   "cell_type": "code",
   "execution_count": null,
   "metadata": {},
   "outputs": [
    {
     "name": "stdout",
     "output_type": "stream",
     "text": [
      "Archive Path: Datasets/../Archive/yolox-openvino-inference-demo-files.zip\n",
      "Dataset Path: Datasets/yolox-openvino-inference-demo-files\n"
     ]
    }
   ],
   "source": [
    "# Create the path to the zip file that contains the dataset\n",
    "archive_path = Path(f'{archive_dir}/{dataset_name}.zip')\n",
    "print(f\"Archive Path: {archive_path}\")\n",
    "\n",
    "# Create the path to the directory where the dataset will be extracted\n",
    "dataset_path = Path(f'{dataset_dir}/{dataset_name}')\n",
    "print(f\"Dataset Path: {dataset_path}\")"
   ]
  },
  {
   "cell_type": "code",
   "execution_count": null,
   "metadata": {},
   "outputs": [
    {
     "name": "stdout",
     "output_type": "stream",
     "text": [
      "Dataset already downloaded\n"
     ]
    }
   ],
   "source": [
    "dl_kaggle(kaggle_dataset, archive_path, dataset_path)"
   ]
  },
  {
   "cell_type": "code",
   "execution_count": null,
   "metadata": {},
   "outputs": [],
   "source": []
  }
 ],
 "metadata": {
  "kernelspec": {
   "display_name": "Python 3 (ipykernel)",
   "language": "python",
   "name": "python3"
  }
 },
 "nbformat": 4,
 "nbformat_minor": 4
}
