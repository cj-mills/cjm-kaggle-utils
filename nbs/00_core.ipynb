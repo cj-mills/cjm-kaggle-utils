{
 "cells": [
  {
   "cell_type": "markdown",
   "metadata": {},
   "source": [
    "# core\n",
    "\n",
    ">  Some utility functions for working with the Kaggle API. "
   ]
  },
  {
   "cell_type": "code",
   "execution_count": null,
   "metadata": {},
   "outputs": [],
   "source": [
    "#| default_exp core"
   ]
  },
  {
   "cell_type": "code",
   "execution_count": null,
   "metadata": {},
   "outputs": [],
   "source": [
    "#| hide\n",
    "from nbdev.showdoc import *"
   ]
  },
  {
   "cell_type": "code",
   "execution_count": null,
   "metadata": {},
   "outputs": [],
   "source": [
    "#| export\n",
    "from pathlib import Path  # For working with file paths\n",
    "import json"
   ]
  },
  {
   "cell_type": "code",
   "execution_count": null,
   "metadata": {},
   "outputs": [],
   "source": [
    "#| export\n",
    "def save_kaggle_creds(username:str, # The Kaggle API username.\n",
    "                      key:str, # The Kaggle API key.\n",
    "                      overwrite=False): # Overwrite existing credentials.\n",
    "    \"\"\"\n",
    "    Save the Kaggle API credentials.\n",
    "    \"\"\"\n",
    "    \n",
    "    if username == \"\":\n",
    "        print(\"Empty username.\")\n",
    "        return\n",
    "    if key == \"\":\n",
    "        print(\"Empty key.\")\n",
    "        return\n",
    "    \n",
    "    # Set the path to the kaggle.json file\n",
    "    cred_path = Path('~/.kaggle/kaggle.json').expanduser()\n",
    "\n",
    "    # Check if the file already exists\n",
    "    if not cred_path.exists() or overwrite:\n",
    "        # Create the directory if it does not exist\n",
    "        cred_path.parent.mkdir(exist_ok=True)\n",
    "        # Save the API key to the file\n",
    "        with open(cred_path, \"w\") as write_file: \n",
    "            json.dump({\"username\": username, \"key\": key}, write_file)\n",
    "        # Set the file permissions to be readable and writable by the current user\n",
    "        cred_path.chmod(0o600)\n",
    "    else:\n",
    "        print(\"Credentials already present. Set `overwrite=True` to replace them.\")"
   ]
  },
  {
   "cell_type": "code",
   "execution_count": null,
   "metadata": {},
   "outputs": [
    {
     "name": "stdout",
     "output_type": "stream",
     "text": [
      "Credentials already present. Set `overwrite=True` to replace them.\n"
     ]
    }
   ],
   "source": [
    "username = \"name\"\n",
    "key = \"12345\"\n",
    "save_kaggle_creds(username, key, overwrite=False)"
   ]
  },
  {
   "cell_type": "code",
   "execution_count": null,
   "metadata": {},
   "outputs": [],
   "source": [
    "#| export\n",
    "from cjm_psl_utils.core import file_extract"
   ]
  },
  {
   "cell_type": "code",
   "execution_count": null,
   "metadata": {},
   "outputs": [],
   "source": [
    "#| export\n",
    "def dl_kaggle(kaggle_dataset, # The Kaggle dataset id in the format `'<username>/<dataset_name>'`.\n",
    "              archive_path, # The path to save the archive file.\n",
    "              dataset_path, # The path to save the extracted dataset.\n",
    "              delete_archive=True): # Delete the archive after extraction.\n",
    "    \"\"\"\n",
    "    Download the Kaggle dataset and extract it to the specified directory. \n",
    "    \"\"\"\n",
    "    \n",
    "    # Import the API module from the kaggle package\n",
    "    from kaggle import api\n",
    "    \n",
    "    # If the dataset does not exist in the specified directory, download and extract it.\n",
    "    if not dataset_path.exists():\n",
    "        api.dataset_download_cli(kaggle_dataset, path=archive_path.parent)\n",
    "\n",
    "        file_extract(fname=archive_path, dest=dataset_path.parent)\n",
    "\n",
    "        # Delete the archive if specified\n",
    "        if delete_archive: archive_path.unlink()\n",
    "    else:\n",
    "        # Inform the user that the dataset already exists in the specified directory.\n",
    "        print(\"Dataset already downloaded\")"
   ]
  },
  {
   "cell_type": "code",
   "execution_count": null,
   "metadata": {},
   "outputs": [
    {
     "name": "stdout",
     "output_type": "stream",
     "text": [
      "Dataset Directory: Datasets\n",
      "Archive Directory: Datasets/../Archive\n"
     ]
    }
   ],
   "source": [
    "# Get the path to the directory where datasets are stored\n",
    "dataset_dir = Path(\"./Datasets/\")\n",
    "dataset_dir.mkdir(parents=True, exist_ok=True)\n",
    "print(f\"Dataset Directory: {dataset_dir}\")\n",
    "\n",
    "# Create the path to the data directory\n",
    "archive_dir = dataset_dir/'../Archive'\n",
    "archive_dir.mkdir(parents=True, exist_ok=True)\n",
    "print(f\"Archive Directory: {archive_dir}\")"
   ]
  },
  {
   "cell_type": "code",
   "execution_count": null,
   "metadata": {},
   "outputs": [],
   "source": [
    "# Set the name of the dataset\n",
    "dataset_name = 'style-image-samples'\n",
    "\n",
    "# Construct the Kaggle dataset name by combining the username and dataset name\n",
    "kaggle_dataset = f'innominate817/{dataset_name}'"
   ]
  },
  {
   "cell_type": "code",
   "execution_count": null,
   "metadata": {},
   "outputs": [
    {
     "name": "stdout",
     "output_type": "stream",
     "text": [
      "Archive Path: Datasets/../Archive/style-image-samples.zip\n",
      "Dataset Path: Datasets/style-image-samples\n"
     ]
    }
   ],
   "source": [
    "# Create the path to the zip file that contains the dataset\n",
    "archive_path = Path(f'{archive_dir}/{dataset_name}.zip')\n",
    "print(f\"Archive Path: {archive_path}\")\n",
    "\n",
    "# Create the path to the directory where the dataset will be extracted\n",
    "dataset_path = Path(f'{dataset_dir}/{dataset_name}')\n",
    "print(f\"Dataset Path: {dataset_path}\")"
   ]
  },
  {
   "cell_type": "code",
   "execution_count": null,
   "metadata": {},
   "outputs": [
    {
     "name": "stdout",
     "output_type": "stream",
     "text": [
      "Downloading style-image-samples.zip to Datasets/../Archive\n"
     ]
    },
    {
     "name": "stderr",
     "output_type": "stream",
     "text": [
      "100%|██████████████████████████████████████████████████████████████████████████████████████████████| 16.2M/16.2M [00:00<00:00, 50.8MB/s]\n"
     ]
    },
    {
     "name": "stdout",
     "output_type": "stream",
     "text": [
      "\n"
     ]
    }
   ],
   "source": [
    "dl_kaggle(kaggle_dataset, archive_path, dataset_path)"
   ]
  },
  {
   "cell_type": "code",
   "execution_count": null,
   "metadata": {},
   "outputs": [
    {
     "name": "stdout",
     "output_type": "stream",
     "text": [
      "images\r\n"
     ]
    }
   ],
   "source": [
    "!ls {dataset_path}"
   ]
  },
  {
   "cell_type": "code",
   "execution_count": null,
   "metadata": {},
   "outputs": [],
   "source": []
  },
  {
   "cell_type": "code",
   "execution_count": null,
   "metadata": {},
   "outputs": [],
   "source": [
    "#| hide\n",
    "import nbdev; nbdev.nbdev_export()"
   ]
  }
 ],
 "metadata": {
  "kernelspec": {
   "display_name": "Python 3 (ipykernel)",
   "language": "python",
   "name": "python3"
  }
 },
 "nbformat": 4,
 "nbformat_minor": 4
}
